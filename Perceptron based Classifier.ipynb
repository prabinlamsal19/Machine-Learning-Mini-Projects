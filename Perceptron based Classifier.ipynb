{
  "cells": [
    {
      "cell_type": "markdown",
      "id": "9b401724",
      "metadata": {
        "id": "9b401724"
      },
      "source": [
        "# Prabin Lamsal\n",
        "# Artificial Neural Networks"
      ]
    },
    {
      "cell_type": "markdown",
      "id": "949122a8",
      "metadata": {
        "id": "949122a8"
      },
      "source": [
        "## Building a simple perceptron based classifier \n",
        "#Prabin Lamsal\n"
      ]
    },
    {
      "cell_type": "markdown",
      "id": "73b24c84",
      "metadata": {
        "id": "73b24c84"
      },
      "source": [
        "We will be using neurolab-a library of basic neural networks algorithms with flexible network configurations and learning algorithms for Python.  "
      ]
    },
    {
      "cell_type": "code",
      "execution_count": null,
      "id": "ff9f3c43",
      "metadata": {
        "id": "ff9f3c43"
      },
      "outputs": [],
      "source": [
        "import numpy as np\n",
        "import matplotlib.pyplot as plt\n",
        "import neurolab as nl"
      ]
    },
    {
      "cell_type": "code",
      "execution_count": null,
      "id": "7cd22e41",
      "metadata": {
        "id": "7cd22e41"
      },
      "outputs": [],
      "source": [
        "import numpy as np"
      ]
    },
    {
      "cell_type": "code",
      "execution_count": null,
      "id": "a20ccb55",
      "metadata": {
        "id": "a20ccb55"
      },
      "outputs": [],
      "source": [
        "# Loading input data\n",
        "text = np.loadtxt('data_perceptron.txt')"
      ]
    },
    {
      "cell_type": "code",
      "execution_count": null,
      "id": "c9d127c8",
      "metadata": {
        "id": "c9d127c8"
      },
      "outputs": [],
      "source": [
        "# Separating datapoints and labels\n",
        "data = text[:, :2]\n",
        "labels = text[:, 2].reshape((text.shape[0], 1))"
      ]
    },
    {
      "cell_type": "code",
      "execution_count": null,
      "id": "2d74abeb",
      "metadata": {
        "id": "2d74abeb",
        "outputId": "bc4f5583-cff6-48cc-c9ca-b5f188c6546d"
      },
      "outputs": [
        {
          "data": {
            "text/plain": [
              "Text(0.5, 1.0, 'Input data')"
            ]
          },
          "execution_count": 4,
          "metadata": {},
          "output_type": "execute_result"
        },
        {
          "data": {
            "image/png": "[encoded data removed]",
            "text/plain": [
              "<Figure size 432x288 with 1 Axes>"
            ]
          },
          "metadata": {
            "needs_background": "light"
          },
          "output_type": "display_data"
        }
      ],
      "source": [
        "# Plotting input data\n",
        "plt.figure()\n",
        "plt.scatter(data[:,0], data[:,1])\n",
        "plt.xlabel('Dimension 1')\n",
        "plt.ylabel('Dimension 2')\n",
        "plt.title('Input data')"
      ]
    },
    {
      "cell_type": "code",
      "execution_count": null,
      "id": "5d70e9e4",
      "metadata": {
        "id": "5d70e9e4"
      },
      "outputs": [],
      "source": [
        "# Define minimum and maximum values for each dimension\n",
        "dim1_min, dim1_max, dim2_min, dim2_max = 0, 1, 0, 1"
      ]
    },
    {
      "cell_type": "code",
      "execution_count": null,
      "id": "c9d5f426",
      "metadata": {
        "id": "c9d5f426"
      },
      "outputs": [],
      "source": [
        "# Number of neurons in the output layer\n",
        "num_output = labels.shape[1]"
      ]
    },
    {
      "cell_type": "code",
      "execution_count": null,
      "id": "4f77b6f9",
      "metadata": {
        "id": "4f77b6f9"
      },
      "outputs": [],
      "source": [
        "# Define a perceptron with 2 input neurons (because we have 2 dimensions in the input data)\n",
        "dim1 = [dim1_min, dim1_max]\n",
        "dim2 = [dim2_min, dim2_max]\n",
        "perceptron = nl.net.newp([dim1, dim2], num_output)"
      ]
    },
    {
      "cell_type": "code",
      "execution_count": null,
      "id": "700e76d4",
      "metadata": {
        "id": "700e76d4",
        "outputId": "3920bbc2-f27d-48e8-f840-4b9153e6d852"
      },
      "outputs": [
        {
          "name": "stdout",
          "output_type": "stream",
          "text": [
            "The goal of learning is reached\n"
          ]
        }
      ],
      "source": [
        "# Train the perceptron using the data\n",
        "error_progress = perceptron.train(data, labels, epochs=100, show=20,\n",
        "lr=0.03)"
      ]
    },
    {
      "cell_type": "code",
      "execution_count": null,
      "id": "f9df2dc7",
      "metadata": {
        "id": "f9df2dc7",
        "outputId": "ea7c4314-0594-4038-fca3-4bc1174243f4"
      },
      "outputs": [
        {
          "data": {
            "image/png": "[encoded data removed]",
            "text/plain": [
              "<Figure size 432x288 with 1 Axes>"
            ]
          },
          "metadata": {
            "needs_background": "light"
          },
          "output_type": "display_data"
        }
      ],
      "source": [
        "# Plot the training progress using the error metric:\n",
        "plt.figure()\n",
        "plt.plot(error_progress)\n",
        "plt.xlabel('No. of epochs')\n",
        "plt.ylabel('Training error')\n",
        "plt.title('Training error progress')\n",
        "plt.grid()\n",
        "plt.show()"
      ]
    },
    {
      "cell_type": "markdown",
      "id": "37f14f76",
      "metadata": {
        "id": "37f14f76"
      },
      "source": [
        "We can observe from the preceding screenshot, the error goes down to 0 at the end of the\n",
        "fourth epoch."
      ]
    },
    {
      "cell_type": "markdown",
      "id": "8eb2c0ab",
      "metadata": {
        "id": "8eb2c0ab"
      },
      "source": [
        "## Constructing a single layer neural network"
      ]
    },
    {
      "cell_type": "code",
      "execution_count": null,
      "id": "fe2d2d56",
      "metadata": {
        "id": "fe2d2d56"
      },
      "outputs": [],
      "source": [
        "# Loading input data\n",
        "text = np.loadtxt('data_simple_nn.txt')"
      ]
    },
    {
      "cell_type": "code",
      "execution_count": null,
      "id": "62c97ac3",
      "metadata": {
        "id": "62c97ac3"
      },
      "outputs": [],
      "source": [
        "# Separating it into datapoints and labels\n",
        "data = text[:, 0:2]\n",
        "labels = text[:, 2:]"
      ]
    },
    {
      "cell_type": "code",
      "execution_count": null,
      "id": "3c8c13b9",
      "metadata": {
        "id": "3c8c13b9",
        "outputId": "1ab41ea1-8a1c-45cf-eaf8-ae8f1933c978"
      },
      "outputs": [
        {
          "data": {
            "text/plain": [
              "Text(0.5, 1.0, 'Input data')"
            ]
          },
          "execution_count": 12,
          "metadata": {},
          "output_type": "execute_result"
        },
        {
          "data": {
            "image/png": "[encoded data removed]",
            "text/plain": [
              "<Figure size 432x288 with 1 Axes>"
            ]
          },
          "metadata": {
            "needs_background": "light"
          },
          "output_type": "display_data"
        }
      ],
      "source": [
        "# Plotting input data\n",
        "plt.figure()\n",
        "plt.scatter(data[:,0], data[:,1])\n",
        "plt.xlabel('Dimension 1')\n",
        "plt.ylabel('Dimension 2')\n",
        "plt.title('Input data')"
      ]
    },
    {
      "cell_type": "code",
      "execution_count": null,
      "id": "ed713c7a",
      "metadata": {
        "id": "ed713c7a"
      },
      "outputs": [],
      "source": [
        "# Minimum and maximum values for each dimension\n",
        "dim1_min, dim1_max = data[:,0].min(), data[:,0].max()\n",
        "dim2_min, dim2_max = data[:,1].min(), data[:,1].max()"
      ]
    },
    {
      "cell_type": "code",
      "execution_count": null,
      "id": "603512e2",
      "metadata": {
        "id": "603512e2"
      },
      "outputs": [],
      "source": [
        "# Defining the number of neurons in the output layer\n",
        "num_output = labels.shape[1]"
      ]
    },
    {
      "cell_type": "code",
      "execution_count": null,
      "id": "68f31749",
      "metadata": {
        "id": "68f31749"
      },
      "outputs": [],
      "source": [
        "# Defining a single-layer neural network\n",
        "dim1 = [dim1_min, dim1_max]\n",
        "dim2 = [dim2_min, dim2_max]\n",
        "nn = nl.net.newp([dim1, dim2], num_output)"
      ]
    },
    {
      "cell_type": "code",
      "execution_count": null,
      "id": "f38c469d",
      "metadata": {
        "id": "f38c469d",
        "outputId": "ab95fd81-56b6-42ea-c824-4bd773704b53"
      },
      "outputs": [
        {
          "name": "stdout",
          "output_type": "stream",
          "text": [
            "Epoch: 20; Error: 4.0;\n",
            "Epoch: 40; Error: 4.0;\n",
            "Epoch: 60; Error: 4.0;\n",
            "Epoch: 80; Error: 4.0;\n",
            "Epoch: 100; Error: 4.0;\n",
            "The maximum number of train epochs is reached\n"
          ]
        }
      ],
      "source": [
        "# Training the neural network\n",
        "error_progress = nn.train(data, labels, epochs=100, show=20, lr=0.03)"
      ]
    },
    {
      "cell_type": "code",
      "execution_count": null,
      "id": "2f60859f",
      "metadata": {
        "id": "2f60859f",
        "outputId": "5c0fd02a-79ac-41b9-de1e-c487a6333426"
      },
      "outputs": [
        {
          "data": {
            "image/png": "[encoded data removed]",
            "text/plain": [
              "<Figure size 432x288 with 1 Axes>"
            ]
          },
          "metadata": {
            "needs_background": "light"
          },
          "output_type": "display_data"
        }
      ],
      "source": [
        "# Plotting the training progress\n",
        "plt.figure()\n",
        "plt.plot(error_progress)\n",
        "plt.xlabel('Number of epochs')\n",
        "plt.ylabel('Training error')\n",
        "plt.title('Training error progress')\n",
        "plt.grid()\n",
        "plt.show()"
      ]
    },
    {
      "cell_type": "code",
      "execution_count": null,
      "id": "ddb18a47",
      "metadata": {
        "id": "ddb18a47",
        "outputId": "d42916eb-47c1-4b42-ab58-8e1eb2397ae2"
      },
      "outputs": [
        {
          "name": "stdout",
          "output_type": "stream",
          "text": [
            "\n",
            "Test results:\n",
            "[0.4, 4.3] --> [0. 0.]\n",
            "[4.4, 0.6] --> [1. 0.]\n",
            "[4.7, 8.1] --> [1. 1.]\n"
          ]
        }
      ],
      "source": [
        "# Running the classifier on test datapoints\n",
        "print('\\nTest results:')\n",
        "data_test = [[0.4, 4.3], [4.4, 0.6], [4.7, 8.1]]\n",
        "for item in data_test:\n",
        "    print(item, '-->', nn.sim([item])[0])"
      ]
    },
    {
      "cell_type": "markdown",
      "id": "584bcd56",
      "metadata": {
        "id": "584bcd56"
      },
      "source": [
        "## Constructing a multilayer neural network"
      ]
    },
    {
      "cell_type": "code",
      "execution_count": null,
      "id": "b1b8c50d",
      "metadata": {
        "id": "b1b8c50d"
      },
      "outputs": [],
      "source": [
        "# Generating some training data\n",
        "min_val = -15\n",
        "max_val = 15\n",
        "num_points = 130\n",
        "x = np.linspace(min_val, max_val, num_points)\n",
        "y = 3 * np.square(x) + 5\n",
        "y /= np.linalg.norm(y)"
      ]
    },
    {
      "cell_type": "code",
      "execution_count": null,
      "id": "280b3797",
      "metadata": {
        "id": "280b3797"
      },
      "outputs": [],
      "source": [
        "# Creating data and labels\n",
        "data = x.reshape(num_points, 1)\n",
        "labels = y.reshape(num_points, 1)"
      ]
    },
    {
      "cell_type": "code",
      "execution_count": null,
      "id": "836afbbd",
      "metadata": {
        "id": "836afbbd",
        "outputId": "3f2e8e84-922c-44bd-bf51-5d6195e3185e"
      },
      "outputs": [
        {
          "data": {
            "text/plain": [
              "Text(0.5, 1.0, 'Input data')"
            ]
          },
          "execution_count": 21,
          "metadata": {},
          "output_type": "execute_result"
        },
        {
          "data": {
            "image/png": "[encoded data removed]",
            "text/plain": [
              "<Figure size 432x288 with 1 Axes>"
            ]
          },
          "metadata": {
            "needs_background": "light"
          },
          "output_type": "display_data"
        }
      ],
      "source": [
        "# Plotting input data\n",
        "plt.figure()\n",
        "plt.scatter(data, labels)\n",
        "plt.xlabel('Dimension 1')\n",
        "plt.ylabel('Dimension 2')\n",
        "plt.title('Input data')"
      ]
    },
    {
      "cell_type": "code",
      "execution_count": null,
      "id": "55dfed90",
      "metadata": {
        "id": "55dfed90"
      },
      "outputs": [],
      "source": [
        "# Defining a multilayer neural network with 2 hidden layers;\n",
        "# First hidden layer consists of 10 neurons, Second hidden layer consists of 6 neurons, Output layer consists of 1 neuron\n",
        "nn = nl.net.newff([[min_val, max_val]], [10, 6, 1])"
      ]
    },
    {
      "cell_type": "code",
      "execution_count": null,
      "id": "873e4872",
      "metadata": {
        "id": "873e4872"
      },
      "outputs": [],
      "source": [
        "# Setting the training algorithm to gradient descent\n",
        "nn.trainf = nl.train.train_gd"
      ]
    },
    {
      "cell_type": "code",
      "execution_count": null,
      "id": "2ef8cc5c",
      "metadata": {
        "id": "2ef8cc5c",
        "outputId": "9c4eb67f-4562-4431-e507-c6b31c4f0c10"
      },
      "outputs": [
        {
          "name": "stdout",
          "output_type": "stream",
          "text": [
            "Epoch: 100; Error: 0.8193729404675041;\n",
            "Epoch: 200; Error: 0.05620616047455615;\n",
            "Epoch: 300; Error: 0.012908038231201499;\n",
            "Epoch: 400; Error: 0.011791571808304209;\n",
            "Epoch: 500; Error: 0.025435402096388695;\n",
            "Epoch: 600; Error: 0.01820282323326288;\n",
            "Epoch: 700; Error: 0.01316645308072955;\n",
            "Epoch: 800; Error: 0.011330792586799879;\n",
            "Epoch: 900; Error: 0.06210409534400023;\n",
            "Epoch: 1000; Error: 0.06763845047521526;\n",
            "Epoch: 1100; Error: 0.03517921921256195;\n",
            "Epoch: 1200; Error: 0.03091091229560957;\n",
            "Epoch: 1300; Error: 0.026836798444117314;\n",
            "Epoch: 1400; Error: 0.01694363689849035;\n",
            "Epoch: 1500; Error: 0.021159033905845115;\n",
            "Epoch: 1600; Error: 0.011125227833918564;\n",
            "Epoch: 1700; Error: 0.010066873127074086;\n",
            "The goal of learning is reached\n"
          ]
        }
      ],
      "source": [
        "# Training the neural network\n",
        "error_progress = nn.train(data, labels, epochs=2000, show=100, goal=0.01)"
      ]
    },
    {
      "cell_type": "code",
      "execution_count": null,
      "id": "c84fced0",
      "metadata": {
        "id": "c84fced0"
      },
      "outputs": [],
      "source": [
        "# Running the neural network on training datapoints\n",
        "output = nn.sim(data)\n",
        "y_pred = output.reshape(num_points)"
      ]
    },
    {
      "cell_type": "code",
      "execution_count": null,
      "id": "2ebe292b",
      "metadata": {
        "id": "2ebe292b",
        "outputId": "560ebe67-91d1-493c-c0d2-7acc8bd32467"
      },
      "outputs": [
        {
          "data": {
            "text/plain": [
              "Text(0.5, 1.0, 'Training error progress')"
            ]
          },
          "execution_count": 26,
          "metadata": {},
          "output_type": "execute_result"
        },
        {
          "data": {
            "image/png": "[encoded data removed]",
            "text/plain": [
              "<Figure size 432x288 with 1 Axes>"
            ]
          },
          "metadata": {
            "needs_background": "light"
          },
          "output_type": "display_data"
        }
      ],
      "source": [
        "# Plottingtraining error\n",
        "plt.figure()\n",
        "plt.plot(error_progress)\n",
        "plt.xlabel('Number of epochs')\n",
        "plt.ylabel('Error')\n",
        "plt.title('Training error progress')"
      ]
    },
    {
      "cell_type": "code",
      "execution_count": null,
      "id": "ad8da15f",
      "metadata": {
        "id": "ad8da15f",
        "outputId": "008cff14-168b-493b-b0ef-aafa0632cd78"
      },
      "outputs": [
        {
          "data": {
            "image/png": "[encoded data removed]",
            "text/plain": [
              "<Figure size 432x288 with 1 Axes>"
            ]
          },
          "metadata": {
            "needs_background": "light"
          },
          "output_type": "display_data"
        }
      ],
      "source": [
        "# Plotting the output\n",
        "x_dense = np.linspace(min_val, max_val, num_points * 2)\n",
        "y_dense_pred = nn.sim(x_dense.reshape(x_dense.size,1)).reshape(x_dense.size)\n",
        "plt.figure()\n",
        "plt.plot(x_dense, y_dense_pred, '-', x, y, '.', x, y_pred, 'p')\n",
        "plt.title('Actual vs predicted')\n",
        "plt.show()"
      ]
    },
    {
      "cell_type": "markdown",
      "id": "20570c9b",
      "metadata": {
        "id": "20570c9b"
      },
      "source": [
        "## Building a vector quantizer"
      ]
    },
    {
      "cell_type": "code",
      "execution_count": null,
      "id": "215f0d52",
      "metadata": {
        "id": "215f0d52"
      },
      "outputs": [],
      "source": [
        "# Loading input data\n",
        "text = np.loadtxt('data_vector_quantization.txt')"
      ]
    },
    {
      "cell_type": "code",
      "execution_count": null,
      "id": "47fecf1c",
      "metadata": {
        "id": "47fecf1c"
      },
      "outputs": [],
      "source": [
        "# Separating it into data and labels\n",
        "data = text[:, 0:2]\n",
        "labels = text[:, 2:]"
      ]
    },
    {
      "cell_type": "code",
      "execution_count": null,
      "id": "c5bfb3d6",
      "metadata": {
        "id": "c5bfb3d6",
        "outputId": "c11abd46-c46c-4909-890a-7a9cf15f2aa8"
      },
      "outputs": [
        {
          "data": {
            "text/plain": [
              "array([[0.9, 5.1],\n",
              "       [1.2, 4.8],\n",
              "       [1. , 4.9],\n",
              "       [0.8, 5.2],\n",
              "       [8. , 4.1],\n",
              "       [8.2, 4.3],\n",
              "       [7.9, 3.8],\n",
              "       [8.3, 4.3],\n",
              "       [5. , 1.1],\n",
              "       [5.1, 0.8],\n",
              "       [5.3, 1.2],\n",
              "       [4.9, 0.9],\n",
              "       [5. , 7. ],\n",
              "       [5.2, 7.2],\n",
              "       [4.9, 7.1],\n",
              "       [5.1, 6.8]])"
            ]
          },
          "execution_count": 30,
          "metadata": {},
          "output_type": "execute_result"
        }
      ],
      "source": [
        "data"
      ]
    },
    {
      "cell_type": "code",
      "execution_count": null,
      "id": "fc196875",
      "metadata": {
        "id": "fc196875",
        "outputId": "072d248b-4e76-4622-d763-53b3b004c567"
      },
      "outputs": [
        {
          "data": {
            "text/plain": [
              "array([[1., 0., 0., 0.],\n",
              "       [1., 0., 0., 0.],\n",
              "       [1., 0., 0., 0.],\n",
              "       [1., 0., 0., 0.],\n",
              "       [0., 1., 0., 0.],\n",
              "       [0., 1., 0., 0.],\n",
              "       [0., 1., 0., 0.],\n",
              "       [0., 1., 0., 0.],\n",
              "       [0., 0., 1., 0.],\n",
              "       [0., 0., 1., 0.],\n",
              "       [0., 0., 1., 0.],\n",
              "       [0., 0., 1., 0.],\n",
              "       [0., 0., 0., 1.],\n",
              "       [0., 0., 0., 1.],\n",
              "       [0., 0., 0., 1.],\n",
              "       [0., 0., 0., 1.]])"
            ]
          },
          "execution_count": 31,
          "metadata": {},
          "output_type": "execute_result"
        }
      ],
      "source": [
        "labels"
      ]
    },
    {
      "cell_type": "code",
      "execution_count": null,
      "id": "9f54e9d0",
      "metadata": {
        "id": "9f54e9d0"
      },
      "outputs": [],
      "source": [
        "# Defining a neural network with 2 layers: 10 neurons in input layer and 4 neurons in output layer\n",
        "num_input_neurons = 10\n",
        "num_output_neurons = 4\n",
        "weights = [1/num_output_neurons] * num_output_neurons\n",
        "nn = nl.net.newlvq(nl.tool.minmax(data), num_input_neurons, weights)"
      ]
    },
    {
      "cell_type": "code",
      "execution_count": null,
      "id": "4bfbaf55",
      "metadata": {
        "id": "4bfbaf55",
        "outputId": "8028310b-8c4a-4f6f-b12b-675ce2829fb7"
      },
      "outputs": [
        {
          "name": "stdout",
          "output_type": "stream",
          "text": [
            "Epoch: 100; Error: 0.0;\n",
            "Epoch: 200; Error: 0.0;\n",
            "Epoch: 300; Error: 0.0;\n",
            "Epoch: 400; Error: 0.0;\n",
            "Epoch: 500; Error: 0.0;\n",
            "The maximum number of train epochs is reached\n"
          ]
        }
      ],
      "source": [
        "# Training the neural network\n",
        "_ = nn.train(data, labels, epochs=500, goal=-1)"
      ]
    },
    {
      "cell_type": "code",
      "execution_count": null,
      "id": "027c514e",
      "metadata": {
        "id": "027c514e"
      },
      "outputs": [],
      "source": [
        "# Creating the input grid to visualize the output clusters\n",
        "xx, yy = np.meshgrid(np.arange(0, 10, 0.2), np.arange(0, 10, 0.2))\n",
        "xx.shape = xx.size, 1\n",
        "yy.shape = yy.size, 1\n",
        "grid_xy = np.concatenate((xx, yy), axis=1)"
      ]
    },
    {
      "cell_type": "code",
      "execution_count": null,
      "id": "00afcfe2",
      "metadata": {
        "id": "00afcfe2"
      },
      "outputs": [],
      "source": [
        "# Evaluating the input grid of points using the neural network\n",
        "grid_eval = nn.sim(grid_xy)"
      ]
    },
    {
      "cell_type": "code",
      "execution_count": null,
      "id": "b9b9eb90",
      "metadata": {
        "id": "b9b9eb90"
      },
      "outputs": [],
      "source": [
        "# Defining/extracting the 4 classes\n",
        "class_1 = data[labels[:,0] == 1]\n",
        "class_2 = data[labels[:,1] == 1]\n",
        "class_3 = data[labels[:,2] == 1]\n",
        "class_4 = data[labels[:,3] == 1]"
      ]
    },
    {
      "cell_type": "code",
      "execution_count": null,
      "id": "ad997745",
      "metadata": {
        "id": "ad997745"
      },
      "outputs": [],
      "source": [
        "# Defining X-Y grids corresponding to the 4 classes\n",
        "grid_1 = grid_xy[grid_eval[:,0] == 1]\n",
        "grid_2 = grid_xy[grid_eval[:,1] == 1]\n",
        "grid_3 = grid_xy[grid_eval[:,2] == 1]\n",
        "grid_4 = grid_xy[grid_eval[:,3] == 1]"
      ]
    },
    {
      "cell_type": "code",
      "execution_count": null,
      "id": "e70066fc",
      "metadata": {
        "id": "e70066fc",
        "outputId": "9b3f48e9-db81-4ab4-9943-77898556d06f"
      },
      "outputs": [
        {
          "data": {
            "image/png": "[encoded data removed]",
            "text/plain": [
              "<Figure size 432x288 with 1 Axes>"
            ]
          },
          "metadata": {
            "needs_background": "light"
          },
          "output_type": "display_data"
        }
      ],
      "source": [
        "# Plot the outputs\n",
        "plt.plot(class_1[:,0], class_1[:,1], 'ko', class_2[:,0], class_2[:,1], 'ko',class_3[:,0], class_3[:,1], 'ko',class_4[:,0], class_4[:,1], 'ko')\n",
        "plt.plot(grid_1[:,0], grid_1[:,1], 'm.',grid_2[:,0], grid_2[:,1], 'bx',grid_3[:,0], grid_3[:,1], 'c^',grid_4[:,0], grid_4[:,1], 'y+')\n",
        "plt.axis([0, 10, 0, 10])\n",
        "plt.xlabel('Dimension 1')\n",
        "plt.ylabel('Dimension 2')\n",
        "plt.title('Vector quantization')\n",
        "plt.show()"
      ]
    },
    {
      "cell_type": "markdown",
      "id": "bd861ec7",
      "metadata": {
        "id": "bd861ec7"
      },
      "source": [
        "## Analyzing sequential data using recurrent neural networks"
      ]
    },
    {
      "cell_type": "code",
      "execution_count": null,
      "id": "eeb80770",
      "metadata": {
        "id": "eeb80770"
      },
      "outputs": [],
      "source": [
        "# Defining a function to generate the waveforms\n",
        "def get_data(num_points):\n",
        "    # Creating sine waveforms\n",
        "    wave_1 = 0.5 * np.sin(np.arange(0, num_points))\n",
        "    wave_2 = 3.6 * np.sin(np.arange(0, num_points))\n",
        "    wave_3 = 1.1 * np.sin(np.arange(0, num_points))\n",
        "    wave_4 = 4.7 * np.sin(np.arange(0, num_points))\n",
        "    \n",
        "    # Creating varying amplitudes for the overall waveform\n",
        "    amp_1 = np.ones(num_points)\n",
        "    amp_2 = 2.1 + np.zeros(num_points)\n",
        "    amp_3 = 3.2 * np.ones(num_points)\n",
        "    amp_4 = 0.8 + np.zeros(num_points)\n",
        "    \n",
        "    # Creating the overall waveform\n",
        "    wave = np.array([wave_1, wave_2, wave_3, wave_4]).reshape(num_points *4, 1)\n",
        "    amp = np.array([[amp_1, amp_2, amp_3, amp_4]]).reshape(num_points * 4,1)\n",
        "    return wave, amp"
      ]
    },
    {
      "cell_type": "code",
      "execution_count": null,
      "id": "2e5943f0",
      "metadata": {
        "id": "2e5943f0"
      },
      "outputs": [],
      "source": [
        "num_points = 40\n",
        "wave, amp = get_data(num_points)"
      ]
    },
    {
      "cell_type": "code",
      "execution_count": null,
      "id": "6dec799d",
      "metadata": {
        "id": "6dec799d"
      },
      "outputs": [],
      "source": [
        "# Visualizing the output of the neural network\n",
        "def visualize_output(nn, num_points_test):\n",
        "    wave, amp = get_data(num_points_test)\n",
        "    output = nn.sim(wave)\n",
        "    plt.plot(amp.reshape(num_points_test * 4))\n",
        "    plt.plot(output.reshape(num_points_test * 4))"
      ]
    },
    {
      "cell_type": "code",
      "execution_count": null,
      "id": "1538fca5",
      "metadata": {
        "id": "1538fca5"
      },
      "outputs": [],
      "source": [
        "# Creating a recurrent neural network with 2 layers\n",
        "nn = nl.net.newelm([[-2, 2]], [10, 1], [nl.trans.TanSig(),\n",
        "nl.trans.PureLin()])\n"
      ]
    },
    {
      "cell_type": "code",
      "execution_count": null,
      "id": "5d43f029",
      "metadata": {
        "id": "5d43f029"
      },
      "outputs": [],
      "source": [
        "# Setting the init functions for each layer\n",
        "nn.layers[0].initf = nl.init.InitRand([-0.1, 0.1], 'wb')\n",
        "nn.layers[1].initf = nl.init.InitRand([-0.1, 0.1], 'wb')\n",
        "nn.init()"
      ]
    },
    {
      "cell_type": "code",
      "execution_count": null,
      "id": "4547988c",
      "metadata": {
        "id": "4547988c",
        "outputId": "7f14de2e-c524-46d3-8211-8aa8bc4ee19c"
      },
      "outputs": [
        {
          "name": "stdout",
          "output_type": "stream",
          "text": [
            "Epoch: 100; Error: 0.869074052568835;\n",
            "Epoch: 200; Error: 0.6305915602613057;\n",
            "Epoch: 300; Error: 0.630083677529387;\n",
            "Epoch: 400; Error: 0.19385115251408053;\n",
            "Epoch: 500; Error: 0.05167376454523144;\n",
            "Epoch: 600; Error: 0.045292154005858856;\n",
            "Epoch: 700; Error: 0.03693733459883715;\n",
            "Epoch: 800; Error: 0.03347662695976318;\n",
            "Epoch: 900; Error: 0.02620567792955006;\n",
            "Epoch: 1000; Error: 0.023014410650567686;\n",
            "Epoch: 1100; Error: 0.021584368963436303;\n",
            "Epoch: 1200; Error: 0.02017587959419705;\n",
            "The maximum number of train epochs is reached\n"
          ]
        }
      ],
      "source": [
        "# Training the recurrent neural network\n",
        "error_progress = nn.train(wave, amp, epochs=1200, show=100, goal=0.01)"
      ]
    },
    {
      "cell_type": "code",
      "execution_count": null,
      "id": "9dd81f09",
      "metadata": {
        "id": "9dd81f09"
      },
      "outputs": [],
      "source": [
        "# Running the training data through the network\n",
        "output = nn.sim(wave)"
      ]
    },
    {
      "cell_type": "code",
      "execution_count": null,
      "id": "cfc66569",
      "metadata": {
        "id": "cfc66569",
        "outputId": "ace71aca-a250-4f77-a6be-16884804330d"
      },
      "outputs": [
        {
          "data": {
            "text/plain": [
              "<matplotlib.legend.Legend at 0x7f7922493a60>"
            ]
          },
          "execution_count": 46,
          "metadata": {},
          "output_type": "execute_result"
        },
        {
          "data": {
            "image/png": "[encoded data removed]",
            "text/plain": [
              "<Figure size 432x288 with 2 Axes>"
            ]
          },
          "metadata": {
            "needs_background": "light"
          },
          "output_type": "display_data"
        }
      ],
      "source": [
        "# Plotting the results\n",
        "plt.subplot(211)\n",
        "plt.plot(error_progress)\n",
        "plt.xlabel('Number of epochs')\n",
        "plt.ylabel('Error (MSE)')\n",
        "plt.subplot(212)\n",
        "plt.plot(amp.reshape(num_points * 4))\n",
        "plt.plot(output.reshape(num_points * 4))\n",
        "plt.legend(['Original', 'Predicted'])"
      ]
    },
    {
      "cell_type": "code",
      "execution_count": null,
      "id": "0119e979",
      "metadata": {
        "id": "0119e979",
        "outputId": "465b623a-ab70-4e90-97d2-ab9de8742d31"
      },
      "outputs": [
        {
          "data": {
            "image/png": "[encoded data removed]",
            "text/plain": [
              "<Figure size 432x288 with 2 Axes>"
            ]
          },
          "metadata": {
            "needs_background": "light"
          },
          "output_type": "display_data"
        }
      ],
      "source": [
        "# Testing the network performance on unknown data\n",
        "plt.figure()\n",
        "plt.subplot(211)\n",
        "visualize_output(nn,82)\n",
        "plt.xlim([0, 300])\n",
        "plt.subplot(212)\n",
        "visualize_output(nn,49)\n",
        "plt.xlim([0, 300])\n",
        "plt.show()"
      ]
    },
    {
      "cell_type": "markdown",
      "id": "35371af1",
      "metadata": {
        "id": "35371af1"
      },
      "source": [
        "## Visualizing characters in an Optical Character Recognition database"
      ]
    },
    {
      "cell_type": "code",
      "execution_count": null,
      "id": "8698c326",
      "metadata": {
        "id": "8698c326"
      },
      "outputs": [],
      "source": [
        "import os\n",
        "import sys\n",
        "import cv2"
      ]
    },
    {
      "cell_type": "code",
      "execution_count": null,
      "id": "f7ac8be7",
      "metadata": {
        "id": "f7ac8be7"
      },
      "outputs": [],
      "source": [
        "# Defining the input file/database with characters\n",
        "input_file = 'letter.data'"
      ]
    },
    {
      "cell_type": "code",
      "execution_count": null,
      "id": "2a39b749",
      "metadata": {
        "id": "2a39b749"
      },
      "outputs": [],
      "source": [
        "# Defining the visualization parameters\n",
        "img_resize_factor = 12\n",
        "start = 6\n",
        "end = -1\n",
        "height, width = 16, 8"
      ]
    },
    {
      "cell_type": "code",
      "execution_count": null,
      "id": "d3e0d20a",
      "metadata": {
        "id": "d3e0d20a"
      },
      "outputs": [],
      "source": [
        "# Iterating until the user presses the Esc key\n",
        "with open(input_file, 'r') as f:\n",
        "    for line in f.readlines():\n",
        "        # Reading the data\n",
        "        data = np.array([255 * float(x) for x in line.split('\\t')[start:end]])\n",
        "        # Reshaping the data into a 2D image\n",
        "        img = np.reshape(data, (height, width))\n",
        "        # Scaling the image\n",
        "        img_scaled = cv2.resize(img, None, fx=img_resize_factor, fy=img_resize_factor)\n",
        "        # Displaying the image\n",
        "        cv2.imshow('Image', img_scaled)\n",
        "        # Checking if the user pressed the Esc key\n",
        "        c = cv2.waitKey()\n",
        "        if c == 27:\n",
        "            break"
      ]
    },
    {
      "cell_type": "markdown",
      "id": "361ec467",
      "metadata": {
        "id": "361ec467"
      },
      "source": [
        "### Sample Outputs"
      ]
    },
    {
      "cell_type": "code",
      "execution_count": null,
      "id": "220814d7",
      "metadata": {
        "id": "220814d7",
        "outputId": "18751c32-5576-4094-9cce-b5ad2970b698"
      },
      "outputs": [
        {
          "data": {
            "image/png": "[encoded data removed]",
            "text/plain": [
              "<IPython.core.display.Image object>"
            ]
          },
          "execution_count": 52,
          "metadata": {},
          "output_type": "execute_result"
        }
      ],
      "source": [
        "from IPython.display import Image\n",
        "#word - S\n",
        "Image(\"img/s.png\")"
      ]
    },
    {
      "cell_type": "markdown",
      "id": "e98971c9",
      "metadata": {
        "id": "e98971c9"
      },
      "source": [
        "## Building an Optical Character Recognition Engine"
      ]
    },
    {
      "cell_type": "markdown",
      "id": "d5cba969",
      "metadata": {
        "id": "d5cba969"
      },
      "source": [
        "Now that we have learned how to work with this data, we'll now build an optical character\n",
        "recognition system using artificial neural networks."
      ]
    },
    {
      "cell_type": "code",
      "execution_count": null,
      "id": "ab094672",
      "metadata": {
        "id": "ab094672"
      },
      "outputs": [],
      "source": [
        "# We will be using the same input file as above\n",
        "input_file = 'letter.data'"
      ]
    },
    {
      "cell_type": "code",
      "execution_count": null,
      "id": "1454a425",
      "metadata": {
        "id": "1454a425"
      },
      "outputs": [],
      "source": [
        "num_datapoints = 50"
      ]
    },
    {
      "cell_type": "code",
      "execution_count": null,
      "id": "31151f8b",
      "metadata": {
        "id": "31151f8b"
      },
      "outputs": [],
      "source": [
        "# String containing all the distinct characters\n",
        "orig_labels = 'omandig'\n",
        "num_orig_labels = len(orig_labels)"
      ]
    },
    {
      "cell_type": "code",
      "execution_count": null,
      "id": "1a2af18b",
      "metadata": {
        "id": "1a2af18b"
      },
      "outputs": [],
      "source": [
        "# Defining the training and testing parameters\n",
        "num_train = int(0.9 * num_datapoints)\n",
        "num_test = num_datapoints - num_train"
      ]
    },
    {
      "cell_type": "code",
      "execution_count": null,
      "id": "9756eb60",
      "metadata": {
        "id": "9756eb60"
      },
      "outputs": [],
      "source": [
        "# Defining the dataset extraction parameters\n",
        "start = 8\n",
        "end = -1"
      ]
    },
    {
      "cell_type": "code",
      "execution_count": null,
      "id": "c8bc1e2f",
      "metadata": {
        "id": "c8bc1e2f"
      },
      "outputs": [],
      "source": [
        "# Creating the dataset\n",
        "data = []\n",
        "labels = []\n",
        "with open(input_file, 'r') as f:\n",
        "    for line in f.readlines():\n",
        "        # Splitting the current line tabwise\n",
        "        list_vals = line.split('\\t')\n",
        "\n",
        "        # Checking if the label is in our ground truth labels. If not, we should skip it.\n",
        "        if list_vals[1] not in orig_labels:\n",
        "            continue\n",
        "\n",
        "        # Extracting the current label and append it to the main list\n",
        "        label = np.zeros((num_orig_labels, 1))\n",
        "        label[orig_labels.index(list_vals[1])] = 1\n",
        "        labels.append(label)\n",
        "\n",
        "        # Extracting the character vector and append it to the main list\n",
        "        cur_char = np.array([float(x) for x in list_vals[start:end]])\n",
        "        data.append(cur_char)\n",
        "\n",
        "        # Exiting the loop once the required dataset has been created \n",
        "        if len(data) >= num_datapoints:\n",
        "            break"
      ]
    },
    {
      "cell_type": "code",
      "execution_count": null,
      "id": "ad20594f",
      "metadata": {
        "id": "ad20594f"
      },
      "outputs": [],
      "source": [
        "# Converting the data and labels to numpy arrays\n",
        "data = np.asfarray(data)\n",
        "labels = np.array(labels).reshape(num_datapoints, num_orig_labels)"
      ]
    },
    {
      "cell_type": "code",
      "execution_count": null,
      "id": "e3c26ae3",
      "metadata": {
        "id": "e3c26ae3",
        "outputId": "de687ae2-eb64-49b1-a0af-c07f5e7b1faa"
      },
      "outputs": [
        {
          "data": {
            "text/plain": [
              "126"
            ]
          },
          "execution_count": 64,
          "metadata": {},
          "output_type": "execute_result"
        }
      ],
      "source": [
        "# Extracting the number of dimensions\n",
        "num_dims = len(data[0])\n",
        "num_dims"
      ]
    },
    {
      "cell_type": "code",
      "execution_count": null,
      "id": "2fdf6bfe",
      "metadata": {
        "id": "2fdf6bfe"
      },
      "outputs": [],
      "source": [
        "# Create a feedforward neural network and setting the training algorithm to gradient descent\n",
        "nn = nl.net.newff([[0, 1] for _ in range(len(data[0]))],[128, 16, num_orig_labels])\n",
        "nn.trainf = nl.train.train_gd"
      ]
    },
    {
      "cell_type": "code",
      "execution_count": null,
      "id": "3bd87aed",
      "metadata": {
        "id": "3bd87aed",
        "outputId": "f206cae9-02bc-4e80-ee67-c2117b7293ca"
      },
      "outputs": [
        {
          "name": "stdout",
          "output_type": "stream",
          "text": [
            "Epoch: 100; Error: 76.59110192215522;\n",
            "Epoch: 200; Error: 26.30756164877397;\n",
            "Epoch: 300; Error: 19.687093447133698;\n",
            "Epoch: 400; Error: 11.278905890910664;\n",
            "Epoch: 500; Error: 9.607845700392007;\n",
            "Epoch: 600; Error: 6.750426326750277;\n",
            "Epoch: 700; Error: 6.3512004850076345;\n",
            "Epoch: 800; Error: 1.5950424618968122;\n",
            "Epoch: 900; Error: 1.3563299239765632;\n",
            "Epoch: 1000; Error: 1.2605858221823312;\n",
            "Epoch: 1100; Error: 1.0377069386551223;\n",
            "Epoch: 1200; Error: 1.237977494915649;\n",
            "Epoch: 1300; Error: 1.225628240372336;\n",
            "Epoch: 1400; Error: 1.122904754321137;\n",
            "Epoch: 1500; Error: 1.1528754564458827;\n",
            "Epoch: 1600; Error: 1.4055470575737714;\n",
            "Epoch: 1700; Error: 1.1477842158117548;\n",
            "Epoch: 1800; Error: 0.9643629843282866;\n",
            "Epoch: 1900; Error: 1.1839660887381953;\n",
            "Epoch: 2000; Error: 1.010457124463529;\n",
            "Epoch: 2100; Error: 0.9098329718143097;\n",
            "Epoch: 2200; Error: 1.159108900250578;\n",
            "Epoch: 2300; Error: 0.8557399074152485;\n",
            "Epoch: 2400; Error: 0.7595665213312792;\n",
            "Epoch: 2500; Error: 0.9739060298193969;\n",
            "Epoch: 2600; Error: 0.9910121737758557;\n",
            "Epoch: 2700; Error: 0.9293895164385496;\n",
            "Epoch: 2800; Error: 0.832361097725971;\n",
            "Epoch: 2900; Error: 0.7736017668968236;\n",
            "Epoch: 3000; Error: 0.730778018846194;\n",
            "Epoch: 3100; Error: 0.7368269819812017;\n",
            "Epoch: 3200; Error: 0.8805781198867653;\n",
            "Epoch: 3300; Error: 0.6925903617388846;\n",
            "Epoch: 3400; Error: 0.8146223422566271;\n",
            "Epoch: 3500; Error: 0.6265106102996567;\n",
            "Epoch: 3600; Error: 0.5672541356904482;\n",
            "Epoch: 3700; Error: 0.8567693626818549;\n",
            "Epoch: 3800; Error: 0.735876350074365;\n",
            "Epoch: 3900; Error: 0.6598253572067039;\n",
            "Epoch: 4000; Error: 0.6077330514119403;\n",
            "Epoch: 4100; Error: 0.5699474692702455;\n",
            "Epoch: 4200; Error: 0.5558679887644152;\n",
            "Epoch: 4300; Error: 0.625972766989264;\n",
            "Epoch: 4400; Error: 0.5177476332575341;\n",
            "Epoch: 4500; Error: 0.5238661275441183;\n",
            "Epoch: 4600; Error: 0.4948409855949152;\n",
            "Epoch: 4700; Error: 0.43354978731528926;\n",
            "Epoch: 4800; Error: 0.5402842084699319;\n",
            "Epoch: 4900; Error: 0.5110683830506566;\n",
            "Epoch: 5000; Error: 0.4385358413837046;\n",
            "Epoch: 5100; Error: 0.3836117492793063;\n",
            "Epoch: 5200; Error: 0.35338153331916866;\n",
            "Epoch: 5300; Error: 0.3309379474712617;\n",
            "Epoch: 5400; Error: 0.2837625322709256;\n",
            "Epoch: 5500; Error: 0.4007260979694194;\n",
            "Epoch: 5600; Error: 0.4243163592973047;\n",
            "Epoch: 5700; Error: 0.35130772928751364;\n",
            "Epoch: 5800; Error: 0.33232872139409925;\n",
            "Epoch: 5900; Error: 0.33348642935072403;\n",
            "Epoch: 6000; Error: 0.3186979230564018;\n",
            "Epoch: 6100; Error: 0.35226564943601235;\n",
            "Epoch: 6200; Error: 0.31425778086944817;\n",
            "Epoch: 6300; Error: 0.2824249744521476;\n",
            "Epoch: 6400; Error: 0.28654621768312755;\n",
            "Epoch: 6500; Error: 0.31835263376200085;\n",
            "Epoch: 6600; Error: 0.27468978381989395;\n",
            "Epoch: 6700; Error: 0.24301885852985902;\n",
            "Epoch: 6800; Error: 0.2181878317964183;\n",
            "Epoch: 6900; Error: 0.18990271410316023;\n",
            "Epoch: 7000; Error: 0.13584223948641883;\n",
            "Epoch: 7100; Error: 0.21432245352110763;\n",
            "Epoch: 7200; Error: 0.21952894571060885;\n",
            "Epoch: 7300; Error: 0.2914528738559712;\n",
            "Epoch: 7400; Error: 0.2500412021843158;\n",
            "Epoch: 7500; Error: 0.22763508397114424;\n",
            "Epoch: 7600; Error: 0.2353003425796049;\n",
            "Epoch: 7700; Error: 0.21411477317952354;\n",
            "Epoch: 7800; Error: 0.22430188520289743;\n",
            "Epoch: 7900; Error: 0.23015477431233297;\n",
            "Epoch: 8000; Error: 0.22567863164617902;\n",
            "Epoch: 8100; Error: 0.195591941506133;\n",
            "Epoch: 8200; Error: 0.17690587515620454;\n",
            "Epoch: 8300; Error: 0.1742583960560961;\n",
            "Epoch: 8400; Error: 0.22142804133202024;\n",
            "Epoch: 8500; Error: 0.20750224644823473;\n",
            "Epoch: 8600; Error: 0.18473921303912672;\n",
            "Epoch: 8700; Error: 0.18627592732395748;\n",
            "Epoch: 8800; Error: 0.1996221508197547;\n",
            "Epoch: 8900; Error: 0.16915074283599357;\n",
            "Epoch: 9000; Error: 0.1501478740474928;\n",
            "Epoch: 9100; Error: 0.13335032725959223;\n",
            "Epoch: 9200; Error: 0.11665350062671861;\n",
            "Epoch: 9300; Error: 0.14105467482449813;\n",
            "Epoch: 9400; Error: 0.2049579781260275;\n",
            "Epoch: 9500; Error: 0.17620331598348907;\n",
            "Epoch: 9600; Error: 0.15065695420940226;\n",
            "Epoch: 9700; Error: 0.1460012502627728;\n",
            "Epoch: 9800; Error: 0.16733877170776162;\n",
            "Epoch: 9900; Error: 0.1458468421496577;\n",
            "Epoch: 10000; Error: 0.12609760436815043;\n",
            "The maximum number of train epochs is reached\n"
          ]
        }
      ],
      "source": [
        "# Training the neural network\n",
        "error_progress = nn.train(data[:num_train,:], labels[:num_train,:],epochs=10000, show=100, goal=0.01)"
      ]
    },
    {
      "cell_type": "code",
      "execution_count": null,
      "id": "d3a58616",
      "metadata": {
        "id": "d3a58616",
        "outputId": "d94b1e5a-524e-4b83-ea01-fda94fbefe04"
      },
      "outputs": [
        {
          "name": "stdout",
          "output_type": "stream",
          "text": [
            "\n",
            "Testing on unknown data:\n",
            "\n",
            "Original: o\n",
            "Predicted: o\n",
            "\n",
            "Original: m\n",
            "Predicted: n\n",
            "\n",
            "Original: m\n",
            "Predicted: n\n",
            "\n",
            "Original: a\n",
            "Predicted: o\n",
            "\n",
            "Original: n\n",
            "Predicted: n\n"
          ]
        }
      ],
      "source": [
        "# Predicting the output for test inputs\n",
        "print('\\nTesting on unknown data:')\n",
        "predicted_test = nn.sim(data[num_train:, :])\n",
        "for i in range(num_test):\n",
        "    print('\\nOriginal:', orig_labels[np.argmax(labels[i])])\n",
        "    print('Predicted:', orig_labels[np.argmax(predicted_test[i])])"
      ]
    },
    {
      "cell_type": "markdown",
      "id": "8b08cb7b",
      "metadata": {
        "id": "8b08cb7b"
      },
      "source": [
        "As we can see in the preceding screenshot, it gets two of them right. If you use a bigger\n",
        "dataset and train longer, then you will get higher accuracy."
      ]
    },
    {
      "cell_type": "markdown",
      "id": "888795b7",
      "metadata": {
        "id": "888795b7"
      },
      "source": [
        "## Recurrent Neural Network"
      ]
    },
    {
      "cell_type": "code",
      "execution_count": 1,
      "id": "c2d4f8e3",
      "metadata": {
        "colab": {
          "base_uri": "https://localhost:8080/",
          "height": 165
        },
        "id": "c2d4f8e3",
        "outputId": "242f6b16-0856-4ef1-9c19-40ac00643df5"
      },
      "outputs": [
        {
          "ename": "NameError",
          "evalue": "ignored",
          "output_type": "error",
          "traceback": [
            "\u001b[0;31m---------------------------------------------------------------------------\u001b[0m",
            "\u001b[0;31mNameError\u001b[0m                                 Traceback (most recent call last)",
            "\u001b[0;32m<ipython-input-1-b6b74c071f01>\u001b[0m in \u001b[0;36m<module>\u001b[0;34m\u001b[0m\n\u001b[0;32m----> 1\u001b[0;31m \u001b[0mImage\u001b[0m\u001b[0;34m(\u001b[0m\u001b[0;34m\"img/rnn.png\"\u001b[0m\u001b[0;34m)\u001b[0m\u001b[0;34m\u001b[0m\u001b[0;34m\u001b[0m\u001b[0m\n\u001b[0m",
            "\u001b[0;31mNameError\u001b[0m: name 'Image' is not defined"
          ]
        }
      ],
      "source": [
        "Image(\"img/rnn.png\")"
      ]
    },
    {
      "cell_type": "markdown",
      "id": "f24b0379",
      "metadata": {
        "id": "f24b0379"
      },
      "source": [
        "## Long Short Term Memory (LSTM)"
      ]
    },
    {
      "cell_type": "markdown",
      "id": "082d7121",
      "metadata": {
        "id": "082d7121"
      },
      "source": [
        "#### Let’s look at an example of an IMDB dataset that has labeled sentiment (positive/negative) for movie reviews."
      ]
    },
    {
      "cell_type": "code",
      "execution_count": null,
      "id": "0f9a0a95",
      "metadata": {
        "id": "0f9a0a95",
        "outputId": "e3af97f0-47e0-4f67-d7ab-d1baa240ee53"
      },
      "outputs": [
        {
          "name": "stdout",
          "output_type": "stream",
          "text": [
            "Loading data...\n",
            "Downloading data from https://storage.googleapis.com/tensorflow/tf-keras-datasets/imdb.npz\n",
            "17464789/17464789 [==============================] - 2s 0us/step\n",
            "25000 train sequences\n",
            "25000 test sequences\n",
            "Pad sequences (samples x time)\n",
            "X_train shape: (25000, 80)\n",
            "X_test shape: (25000, 80)\n"
          ]
        }
      ],
      "source": [
        "# import numpy as np\n",
        "np.random.seed(2017) # for reproducibility\n",
        "from keras.preprocessing import sequence\n",
        "from keras_preprocessing.sequence import pad_sequences\n",
        "from keras.models import Sequential\n",
        "from keras.layers import Dense, Activation, Embedding\n",
        "from keras.layers import LSTM\n",
        "from keras.datasets import imdb\n",
        "max_features = 20000\n",
        "maxlen = 80 # cut texts after this number of words (among top max_features most common words)\n",
        "batch_size = 32\n",
        "print('Loading data...')\n",
        "(X_train, y_train), (X_test, y_test) = imdb.load_data(num_words=max_features)\n",
        "print(len(X_train), 'train sequences')\n",
        "print(len(X_test), 'test sequences')\n",
        "print('Pad sequences (samples x time)')\n",
        "X_train = pad_sequences(X_train, maxlen=maxlen)\n",
        "X_test = pad_sequences(X_test, maxlen=maxlen)\n",
        "print('X_train shape:', X_train.shape)\n",
        "print('X_test shape:', X_test.shape)"
      ]
    },
    {
      "cell_type": "code",
      "execution_count": null,
      "id": "a4973505",
      "metadata": {
        "id": "a4973505",
        "outputId": "eedbdef1-1131-42a2-e796-c6feeca746c7"
      },
      "outputs": [
        {
          "name": "stdout",
          "output_type": "stream",
          "text": [
            "Epoch 1/5\n",
            "782/782 [==============================] - 100s 124ms/step - loss: 0.4353 - accuracy: 0.7955 - val_loss: 0.3641 - val_accuracy: 0.8385\n",
            "Epoch 2/5\n",
            "782/782 [==============================] - 98s 125ms/step - loss: 0.2563 - accuracy: 0.8984 - val_loss: 0.4044 - val_accuracy: 0.8349\n",
            "Epoch 3/5\n",
            "782/782 [==============================] - 98s 126ms/step - loss: 0.1646 - accuracy: 0.9381 - val_loss: 0.4737 - val_accuracy: 0.8260\n",
            "Epoch 4/5\n",
            "782/782 [==============================] - 98s 126ms/step - loss: 0.1136 - accuracy: 0.9590 - val_loss: 0.5836 - val_accuracy: 0.8166\n",
            "Epoch 5/5\n",
            "782/782 [==============================] - 99s 127ms/step - loss: 0.0810 - accuracy: 0.9718 - val_loss: 0.6362 - val_accuracy: 0.8176\n"
          ]
        },
        {
          "data": {
            "text/plain": [
              "<keras.callbacks.History at 0x24188719a30>"
            ]
          },
          "execution_count": 5,
          "metadata": {},
          "output_type": "execute_result"
        }
      ],
      "source": [
        "#Model configuration\n",
        "model = Sequential()\n",
        "model.add(Embedding(max_features, 128))\n",
        "model.add(LSTM(128, recurrent_dropout=0.2, dropout=0.2)) # try using a GRU instead, for fun\n",
        "model.add(Dense(1))\n",
        "model.add(Activation('sigmoid'))\n",
        "model.compile(loss='binary_crossentropy', optimizer='adam', metrics=['accuracy'])\n",
        "#Training\n",
        "model.fit(X_train, y_train, batch_size=batch_size, epochs=5, validation_data=(X_test, y_test))"
      ]
    },
    {
      "cell_type": "code",
      "execution_count": null,
      "id": "7ab681c0",
      "metadata": {
        "id": "7ab681c0",
        "outputId": "fb915f68-24cb-4d66-bbc1-73de342b39c5"
      },
      "outputs": [
        {
          "name": "stdout",
          "output_type": "stream",
          "text": [
            "782/782 [==============================] - 11s 14ms/step - loss: 0.0329 - accuracy: 0.9914\n",
            "782/782 [==============================] - 11s 15ms/step - loss: 0.6362 - accuracy: 0.8176\n",
            "Train score: 0.032869141548871994\n",
            "Train accuracy: 0.9913600087165833\n",
            "Test score: 0.636238157749176\n",
            "Test accuracy: 0.8175600171089172\n"
          ]
        }
      ],
      "source": [
        "# Evaluating\n",
        "train_score, train_acc = model.evaluate(X_train, y_train, batch_size=batch_size)\n",
        "test_score, test_acc = model.evaluate(X_test, y_test, batch_size=batch_size)\n",
        "print ('Train score:', train_score)\n",
        "print ('Train accuracy:', train_acc)\n",
        "print ('Test score:', test_score)\n",
        "print ('Test accuracy:', test_acc)"
      ]
    },
    {
      "cell_type": "markdown",
      "id": "eedcc59b",
      "metadata": {
        "id": "eedcc59b"
      },
      "source": [
        "## Transfer Learning"
      ]
    },
    {
      "cell_type": "code",
      "execution_count": null,
      "id": "1b9d40e7",
      "metadata": {
        "id": "1b9d40e7",
        "outputId": "4d22a809-08f1-45d9-d5e5-ce0a9e98d2b7"
      },
      "outputs": [
        {
          "name": "stdout",
          "output_type": "stream",
          "text": [
            "X_train shape: (30596, 28, 28, 1)\n",
            "30596 train samples\n",
            "5139 test samples\n",
            "Epoch 1/5\n"
          ]
        },
        {
          "name": "stderr",
          "output_type": "stream",
          "text": [
            "2022-08-29 08:29:45.626414: W tensorflow/core/framework/cpu_allocator_impl.cc:82] Allocation of 95949056 exceeds 10% of free system memory.\n"
          ]
        },
        {
          "name": "stdout",
          "output_type": "stream",
          "text": [
            "240/240 [==============================] - 25s 102ms/step - loss: 1.5965 - accuracy: 0.2008 - val_loss: 1.5698 - val_accuracy: 0.2392\n",
            "Epoch 2/5\n",
            "240/240 [==============================] - 24s 100ms/step - loss: 1.5612 - accuracy: 0.2640 - val_loss: 1.5312 - val_accuracy: 0.4312\n",
            "Epoch 3/5\n",
            "240/240 [==============================] - 24s 99ms/step - loss: 1.5241 - accuracy: 0.3463 - val_loss: 1.4884 - val_accuracy: 0.5668\n",
            "Epoch 4/5\n",
            "240/240 [==============================] - 24s 99ms/step - loss: 1.4821 - accuracy: 0.4232 - val_loss: 1.4389 - val_accuracy: 0.6492\n",
            "Epoch 5/5\n",
            "240/240 [==============================] - 24s 100ms/step - loss: 1.4358 - accuracy: 0.4914 - val_loss: 1.3816 - val_accuracy: 0.7215\n",
            "Test score: 1.3815511465072632\n",
            "Test accuracy: 0.721541166305542\n"
          ]
        }
      ],
      "source": [
        "np.random.seed(2017) # for reproducibility\n",
        "from keras.datasets import mnist\n",
        "from keras.models import Sequential\n",
        "from keras.layers import Dense, Dropout, Activation, Flatten\n",
        "from keras.layers import Conv2D, MaxPooling2D\n",
        "from keras.utils import np_utils\n",
        "from keras import backend as K\n",
        "batch_size = 128\n",
        "nb_classes = 5\n",
        "nb_epoch = 5\n",
        "# input image dimensions\n",
        "img_rows, img_cols = 28, 28\n",
        "# number of convolutional filters to use\n",
        "nb_filters = 32\n",
        "# size of pooling area for max pooling\n",
        "pool_size = 2\n",
        "# convolution kernel size\n",
        "kernel_size = 3\n",
        "input_shape = (img_rows, img_cols, 1)\n",
        "# the data, shuffled and split between train and test sets\n",
        "(X_train, y_train), (X_test, y_test) = mnist.load_data()\n",
        "# create two datasets one with digits below 5 and one with 5 and above\n",
        "X_train_lt5 = X_train[y_train < 5]\n",
        "y_train_lt5 = y_train[y_train < 5]\n",
        "\n",
        "X_test_lt5 = X_test[y_test < 5]\n",
        "y_test_lt5 = y_test[y_test < 5]\n",
        "X_train_gte5 = X_train[y_train >= 5]\n",
        "y_train_gte5 = y_train[y_train >= 5] - 5 # make classes start at 0 for\n",
        "X_test_gte5 = X_test[y_test >= 5] # np_utils.to_categorical\n",
        "y_test_gte5 = y_test[y_test >= 5] - 5\n",
        "\n",
        "# Train model for digits 0 to 4\n",
        "def train_model(model, train, test, nb_classes):\n",
        "    X_train = train[0].reshape((train[0].shape[0],) + input_shape)\n",
        "    X_test = test[0].reshape((test[0].shape[0],) + input_shape)\n",
        "    X_train = X_train.astype('float32')\n",
        "    X_test = X_test.astype('float32')\n",
        "    X_train /= 255\n",
        "    X_test /= 255\n",
        "    print('X_train shape:', X_train.shape)\n",
        "    print(X_train.shape[0], 'train samples')\n",
        "    print(X_test.shape[0], 'test samples')\n",
        "\n",
        "    # convert class vectors to binary class matrices\n",
        "    Y_train = np_utils.to_categorical(train[1], nb_classes)\n",
        "    Y_test = np_utils.to_categorical(test[1], nb_classes)\n",
        "    model.compile(loss='categorical_crossentropy',optimizer='adadelta',metrics=['accuracy'])\n",
        "    model.fit(X_train, Y_train,\n",
        "    batch_size=batch_size, epochs=nb_epoch,verbose=1,validation_data=(X_test, Y_test))\n",
        "    score = model.evaluate(X_test, Y_test, verbose=0)\n",
        "    print('Test score:', score[0])\n",
        "    print('Test accuracy:', score[1])\n",
        "\n",
        "# define two groups of layers: feature (convolutions) and classification (dense)\n",
        "feature_layers = [\n",
        "    Conv2D(nb_filters, kernel_size,\n",
        "    padding='valid',\n",
        "    input_shape=input_shape),\n",
        "    Activation('relu'),\n",
        "    Conv2D(nb_filters, kernel_size),\n",
        "    Activation('relu'),\n",
        "    MaxPooling2D(pool_size=(pool_size, pool_size)),\n",
        "    Dropout(0.25),\n",
        "    Flatten(),\n",
        "]\n",
        "classification_layers = [\n",
        "    Dense(128),\n",
        "    Activation('relu'),\n",
        "    Dropout(0.5),\n",
        "    Dense(nb_classes),\n",
        "    Activation('softmax')\n",
        "]\n",
        "# create complete model\n",
        "model = Sequential(feature_layers + classification_layers)\n",
        "# train model for 5-digit classification [0..4]\n",
        "train_model(model, (X_train_lt5, y_train_lt5), (X_test_lt5, y_test_lt5),nb_classes)"
      ]
    },
    {
      "cell_type": "code",
      "execution_count": null,
      "id": "3df22dc7",
      "metadata": {
        "id": "3df22dc7",
        "outputId": "8444cbe4-12b4-4c17-892e-56b6ceb7f017"
      },
      "outputs": [
        {
          "name": "stdout",
          "output_type": "stream",
          "text": [
            "X_train shape: (29404, 28, 28, 1)\n",
            "29404 train samples\n",
            "4861 test samples\n",
            "Epoch 1/5\n"
          ]
        },
        {
          "name": "stderr",
          "output_type": "stream",
          "text": [
            "2022-08-29 08:31:47.845691: W tensorflow/core/framework/cpu_allocator_impl.cc:82] Allocation of 92210944 exceeds 10% of free system memory.\n"
          ]
        },
        {
          "name": "stdout",
          "output_type": "stream",
          "text": [
            "230/230 [==============================] - 8s 33ms/step - loss: 1.5885 - accuracy: 0.2671 - val_loss: 1.5567 - val_accuracy: 0.3582\n",
            "Epoch 2/5\n",
            "230/230 [==============================] - 7s 30ms/step - loss: 1.5532 - accuracy: 0.3171 - val_loss: 1.5195 - val_accuracy: 0.4075\n",
            "Epoch 3/5\n",
            "230/230 [==============================] - 7s 30ms/step - loss: 1.5197 - accuracy: 0.3701 - val_loss: 1.4827 - val_accuracy: 0.5032\n",
            "Epoch 4/5\n",
            "230/230 [==============================] - 7s 31ms/step - loss: 1.4871 - accuracy: 0.4273 - val_loss: 1.4467 - val_accuracy: 0.5958\n",
            "Epoch 5/5\n",
            "230/230 [==============================] - 7s 30ms/step - loss: 1.4540 - accuracy: 0.4876 - val_loss: 1.4121 - val_accuracy: 0.6583\n",
            "Test score: 1.4121023416519165\n",
            "Test accuracy: 0.6583007574081421\n"
          ]
        }
      ],
      "source": [
        "# freezing feature layers and rebuilding model\n",
        "for layer in feature_layers:\n",
        "    layer.trainable = False\n",
        "# transfer: training dense layers for new classification task [5..9]\n",
        "train_model(model, (X_train_gte5, y_train_gte5), (X_test_gte5,\n",
        "y_test_gte5), nb_classes)"
      ]
    }
  ],
  "metadata": {
    "colab": {
      "provenance": []
    },
    "kernelspec": {
      "display_name": "Python 3 (ipykernel)",
      "language": "python",
      "name": "python3"
    },
    "language_info": {
      "codemirror_mode": {
        "name": "ipython",
        "version": 3
      },
      "file_extension": ".py",
      "mimetype": "text/x-python",
      "name": "python",
      "nbconvert_exporter": "python",
      "pygments_lexer": "ipython3",
      "version": "3.9.12"
    }
  },
  "nbformat": 4,
  "nbformat_minor": 5
}
